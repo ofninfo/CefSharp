{
  "nbformat": 4,
  "nbformat_minor": 0,
  "metadata": {
    "colab": {
      "provenance": [],
      "authorship_tag": "ABX9TyMaC/5hpWhpBYgJQQlBIgqW",
      "include_colab_link": true
    },
    "kernelspec": {
      "name": "python3",
      "display_name": "Python 3"
    },
    "language_info": {
      "name": "python"
    }
  },
  "cells": [
    {
      "cell_type": "markdown",
      "metadata": {
        "id": "view-in-github",
        "colab_type": "text"
      },
      "source": [
        "<a href=\"https://colab.research.google.com/github/ofninfo/CefSharp/blob/master/Vetor1.ipynb\" target=\"_parent\"><img src=\"https://colab.research.google.com/assets/colab-badge.svg\" alt=\"Open In Colab\"/></a>"
      ]
    },
    {
      "cell_type": "code",
      "execution_count": 2,
      "metadata": {
        "colab": {
          "base_uri": "https://localhost:8080/"
        },
        "id": "-UhsfYu9Zkbl",
        "outputId": "1ee60bc7-567a-48d7-e010-f0e49446fc41"
      },
      "outputs": [
        {
          "output_type": "stream",
          "name": "stdout",
          "text": [
            "[ 8 34 67 98]\n",
            "[123 456  67  98]\n"
          ]
        }
      ],
      "source": [
        "import numpy as np\n",
        "\n",
        "vetor = np.array([8,34,67,98])\n",
        "print(vetor)\n",
        "vetor[0] = 123\n",
        "vetor[1] = 456\n",
        "\n",
        "print(vetor)"
      ]
    },
    {
      "cell_type": "code",
      "source": [
        "def entrada():\n",
        "  a1 = input(\"Entre com a altura do Jogador 1:\")\n",
        "  a2 = input(\"Entre com a altura do Jogador 2:\")\n",
        "  a3 = input(\"Entre com a altura do Jogador 3:\")\n",
        "  a4 = input(\"Entre com a altura do Jogador 4:\")\n",
        "  a5 = input(\"Entre com a altura do Jogador 5:\")\n",
        "\n",
        "\n",
        "  entrada()"
      ],
      "metadata": {
        "id": "FtnEh7aaaXTi"
      },
      "execution_count": 4,
      "outputs": []
    },
    {
      "cell_type": "code",
      "source": [
        "import numpy as vet\n",
        "\n",
        "a = vet.zeros(5)\n",
        "\n",
        "def entrada():\n",
        "  for i in range(5):\n",
        "    a[i] = input(\"Entre com a altura do Jogador\"+i+\":\")\n",
        "\n",
        "  entrada()"
      ],
      "metadata": {
        "id": "qbopEzuva_tZ"
      },
      "execution_count": 6,
      "outputs": []
    }
  ]
}